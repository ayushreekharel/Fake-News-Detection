{
  "cells": [
    {
      "cell_type": "code",
      "execution_count": 3,
      "metadata": {
        "colab": {
          "base_uri": "https://localhost:8080/"
        },
        "id": "l33H4lQCaLus",
        "outputId": "b31cae22-54f1-4c86-e6bf-6a58b3cd5bbd"
      },
      "outputs": [
        {
          "name": "stderr",
          "output_type": "stream",
          "text": [
            "[nltk_data] Downloading package wordnet to /root/nltk_data...\n",
            "[nltk_data] Downloading package stopwords to /root/nltk_data...\n",
            "[nltk_data]   Unzipping corpora/stopwords.zip.\n"
          ]
        }
      ],
      "source": [
        "import pandas as pd\n",
        "import re\n",
        "import nltk\n",
        "from nltk.stem import WordNetLemmatizer\n",
        "nltk.download('wordnet')\n",
        "lz=WordNetLemmatizer()\n",
        "nltk.download('stopwords')\n",
        "import matplotlib.pyplot as plt\n",
        "from sklearn.metrics import classification_report"
      ]
    },
    {
      "cell_type": "code",
      "execution_count": 4,
      "metadata": {
        "colab": {
          "base_uri": "https://localhost:8080/"
        },
        "id": "_edjF4LL0fz1",
        "outputId": "d7e48393-ddb1-474d-faa8-f3bcc70818fa"
      },
      "outputs": [
        {
          "name": "stdout",
          "output_type": "stream",
          "text": [
            "Drive already mounted at /content/drive; to attempt to forcibly remount, call drive.mount(\"/content/drive\", force_remount=True).\n"
          ]
        }
      ],
      "source": [
        "from google.colab import drive\n",
        "drive.mount('/content/drive')"
      ]
    },
    {
      "cell_type": "code",
      "execution_count": 5,
      "metadata": {
        "id": "sg20NnwUfYN8"
      },
      "outputs": [],
      "source": [
        "from tensorflow.keras.layers import Embedding\n",
        "from tensorflow.keras.preprocessing.sequence import pad_sequences\n",
        "from tensorflow.keras.preprocessing.text import one_hot\n",
        "from tensorflow.keras.models import Sequential\n",
        "from tensorflow.keras.layers import Dense\n",
        "from tensorflow.keras.layers import LSTM\n",
        "from tensorflow.keras.layers import Bidirectional\n",
        "from tensorflow.keras.optimizers import Adagrad\n",
        "from tensorflow.keras.optimizers import Adam"
      ]
    },
    {
      "cell_type": "code",
      "execution_count": 6,
      "metadata": {
        "id": "342Q6IRnggJs"
      },
      "outputs": [],
      "source": [
        "voc_size=10000"
      ]
    },
    {
      "cell_type": "code",
      "execution_count": 7,
      "metadata": {
        "id": "--OADY_0aPOr"
      },
      "outputs": [],
      "source": [
        "news_df=pd.read_csv('/content/drive/MyDrive/processed.csv')"
      ]
    },
    {
      "cell_type": "code",
      "execution_count": 9,
      "metadata": {
        "id": "Nfq_zbpHBP_O"
      },
      "outputs": [],
      "source": [
        "import seaborn as sns"
      ]
    },
    {
      "cell_type": "code",
      "execution_count": 11,
      "metadata": {
        "id": "YIMyCdzsgjce"
      },
      "outputs": [],
      "source": [
        "X=news_df['content']\n",
        "y=news_df['label']"
      ]
    },
    {
      "cell_type": "code",
      "execution_count": 12,
      "metadata": {
        "colab": {
          "base_uri": "https://localhost:8080/"
        },
        "id": "jmpodw7NCU18",
        "outputId": "cad7cfc8-1ec7-484f-d369-244b79f897dc"
      },
      "outputs": [
        {
          "data": {
            "text/plain": [
              "0    istanbul explosion isi bomber kill least istan...\n",
              "1    trump give remark healthcare pm gmt white hous...\n",
              "2    mi school sends welcome back packet warning ki...\n",
              "3    spacex bfr go city city earth hour spacex bfr ...\n",
              "4    republican lack agreement obamacare ahead trum...\n",
              "Name: content, dtype: object"
            ]
          },
          "execution_count": 12,
          "metadata": {},
          "output_type": "execute_result"
        }
      ],
      "source": [
        "X.head()"
      ]
    },
    {
      "cell_type": "code",
      "execution_count": 14,
      "metadata": {
        "colab": {
          "base_uri": "https://localhost:8080/",
          "height": 204
        },
        "id": "dRQ6Z8OAH-xQ",
        "outputId": "40afba4f-985a-4071-825d-c30feb50e654"
      },
      "outputs": [
        {
          "data": {
            "text/html": [
              "<div style=\"max-width:800px; border: 1px solid var(--colab-border-color);\"><style>\n",
              "      pre.function-repr-contents {\n",
              "        overflow-x: auto;\n",
              "        padding: 8px 12px;\n",
              "        max-height: 500px;\n",
              "      }\n",
              "\n",
              "      pre.function-repr-contents.function-repr-contents-collapsed {\n",
              "        cursor: pointer;\n",
              "        max-height: 100px;\n",
              "      }\n",
              "    </style>\n",
              "    <pre style=\"white-space: initial; background:\n",
              "         var(--colab-secondary-surface-color); padding: 8px 12px;\n",
              "         border-bottom: 1px solid var(--colab-border-color);\"><b>pandas.core.series.Series</b><br/>def __init__(data=None, index=None, dtype: Dtype | None=None, name=None, copy: bool=False, fastpath: bool=False) -&gt; None</pre><pre class=\"function-repr-contents function-repr-contents-collapsed\" style=\"\"><a class=\"filepath\" style=\"display:none\" href=\"#\">/usr/local/lib/python3.10/dist-packages/pandas/core/series.py</a>One-dimensional ndarray with axis labels (including time series).\n",
              "\n",
              "Labels need not be unique but must be a hashable type. The object\n",
              "supports both integer- and label-based indexing and provides a host of\n",
              "methods for performing operations involving the index. Statistical\n",
              "methods from ndarray have been overridden to automatically exclude\n",
              "missing data (currently represented as NaN).\n",
              "\n",
              "Operations between Series (+, -, /, \\*, \\*\\*) align values based on their\n",
              "associated index values-- they need not be the same length. The result\n",
              "index will be the sorted union of the two indexes.\n",
              "\n",
              "Parameters\n",
              "----------\n",
              "data : array-like, Iterable, dict, or scalar value\n",
              "    Contains data stored in Series. If data is a dict, argument order is\n",
              "    maintained.\n",
              "index : array-like or Index (1d)\n",
              "    Values must be hashable and have the same length as `data`.\n",
              "    Non-unique index values are allowed. Will default to\n",
              "    RangeIndex (0, 1, 2, ..., n) if not provided. If data is dict-like\n",
              "    and index is None, then the keys in the data are used as the index. If the\n",
              "    index is not None, the resulting Series is reindexed with the index values.\n",
              "dtype : str, numpy.dtype, or ExtensionDtype, optional\n",
              "    Data type for the output Series. If not specified, this will be\n",
              "    inferred from `data`.\n",
              "    See the :ref:`user guide &lt;basics.dtypes&gt;` for more usages.\n",
              "name : str, optional\n",
              "    The name to give to the Series.\n",
              "copy : bool, default False\n",
              "    Copy input data. Only affects Series or 1d ndarray input. See examples.\n",
              "\n",
              "Notes\n",
              "-----\n",
              "Please reference the :ref:`User Guide &lt;basics.series&gt;` for more information.\n",
              "\n",
              "Examples\n",
              "--------\n",
              "Constructing Series from a dictionary with an Index specified\n",
              "\n",
              "&gt;&gt;&gt; d = {&#x27;a&#x27;: 1, &#x27;b&#x27;: 2, &#x27;c&#x27;: 3}\n",
              "&gt;&gt;&gt; ser = pd.Series(data=d, index=[&#x27;a&#x27;, &#x27;b&#x27;, &#x27;c&#x27;])\n",
              "&gt;&gt;&gt; ser\n",
              "a   1\n",
              "b   2\n",
              "c   3\n",
              "dtype: int64\n",
              "\n",
              "The keys of the dictionary match with the Index values, hence the Index\n",
              "values have no effect.\n",
              "\n",
              "&gt;&gt;&gt; d = {&#x27;a&#x27;: 1, &#x27;b&#x27;: 2, &#x27;c&#x27;: 3}\n",
              "&gt;&gt;&gt; ser = pd.Series(data=d, index=[&#x27;x&#x27;, &#x27;y&#x27;, &#x27;z&#x27;])\n",
              "&gt;&gt;&gt; ser\n",
              "x   NaN\n",
              "y   NaN\n",
              "z   NaN\n",
              "dtype: float64\n",
              "\n",
              "Note that the Index is first build with the keys from the dictionary.\n",
              "After this the Series is reindexed with the given Index values, hence we\n",
              "get all NaN as a result.\n",
              "\n",
              "Constructing Series from a list with `copy=False`.\n",
              "\n",
              "&gt;&gt;&gt; r = [1, 2]\n",
              "&gt;&gt;&gt; ser = pd.Series(r, copy=False)\n",
              "&gt;&gt;&gt; ser.iloc[0] = 999\n",
              "&gt;&gt;&gt; r\n",
              "[1, 2]\n",
              "&gt;&gt;&gt; ser\n",
              "0    999\n",
              "1      2\n",
              "dtype: int64\n",
              "\n",
              "Due to input data type the Series has a `copy` of\n",
              "the original data even though `copy=False`, so\n",
              "the data is unchanged.\n",
              "\n",
              "Constructing Series from a 1d ndarray with `copy=False`.\n",
              "\n",
              "&gt;&gt;&gt; r = np.array([1, 2])\n",
              "&gt;&gt;&gt; ser = pd.Series(r, copy=False)\n",
              "&gt;&gt;&gt; ser.iloc[0] = 999\n",
              "&gt;&gt;&gt; r\n",
              "array([999,   2])\n",
              "&gt;&gt;&gt; ser\n",
              "0    999\n",
              "1      2\n",
              "dtype: int64\n",
              "\n",
              "Due to input data type the Series has a `view` on\n",
              "the original data, so\n",
              "the data is changed as well.</pre>\n",
              "      <script>\n",
              "      if (google.colab.kernel.accessAllowed && google.colab.files && google.colab.files.view) {\n",
              "        for (const element of document.querySelectorAll('.filepath')) {\n",
              "          element.style.display = 'block'\n",
              "          element.onclick = (event) => {\n",
              "            event.preventDefault();\n",
              "            event.stopPropagation();\n",
              "            google.colab.files.view(element.textContent, 216);\n",
              "          };\n",
              "        }\n",
              "      }\n",
              "      for (const element of document.querySelectorAll('.function-repr-contents')) {\n",
              "        element.onclick = (event) => {\n",
              "          event.preventDefault();\n",
              "          event.stopPropagation();\n",
              "          element.classList.toggle('function-repr-contents-collapsed');\n",
              "        };\n",
              "      }\n",
              "      </script>\n",
              "      </div>"
            ],
            "text/plain": [
              "pandas.core.series.Series"
            ]
          },
          "execution_count": 14,
          "metadata": {},
          "output_type": "execute_result"
        }
      ],
      "source": [
        "type(X)"
      ]
    },
    {
      "cell_type": "code",
      "execution_count": 15,
      "metadata": {
        "colab": {
          "base_uri": "https://localhost:8080/"
        },
        "id": "n_ElTpSBD7VB",
        "outputId": "6da29298-ba34-4c33-f5b8-74937c4ac053"
      },
      "outputs": [
        {
          "name": "stdout",
          "output_type": "stream",
          "text": [
            "0        istanbul explosion isi bomber kill least istan...\n",
            "1        trump give remark healthcare pm gmt white hous...\n",
            "2        mi school sends welcome back packet warning ki...\n",
            "3        spacex bfr go city city earth hour spacex bfr ...\n",
            "4        republican lack agreement obamacare ahead trum...\n",
            "                               ...                        \n",
            "55216    spain make largest cocaine bust year madrid re...\n",
            "55217    breaking youre fired fbi director james comey ...\n",
            "55218    wartorn darfur new u aid chief stress need hum...\n",
            "55219    climate doubter pruitt take epa rein trump tar...\n",
            "55220    need safe place pumpkin internet drag trump be...\n",
            "Name: content, Length: 55221, dtype: object\n"
          ]
        }
      ],
      "source": [
        "print(X)"
      ]
    },
    {
      "cell_type": "code",
      "execution_count": 16,
      "metadata": {
        "colab": {
          "base_uri": "https://localhost:8080/"
        },
        "id": "u0RlmbX5GMSK",
        "outputId": "dae1b46e-3ea9-49bc-a21c-f958bdb51ff4"
      },
      "outputs": [
        {
          "data": {
            "text/plain": [
              "3657"
            ]
          },
          "execution_count": 16,
          "metadata": {},
          "output_type": "execute_result"
        }
      ],
      "source": [
        "len(X[0])"
      ]
    },
    {
      "cell_type": "code",
      "execution_count": 17,
      "metadata": {
        "id": "PbOJpoTbLcT5"
      },
      "outputs": [],
      "source": [
        "corpus=[]\n",
        "for i in range(0,len(X)):\n",
        "  review=X[i]\n",
        "  review=review.split()\n",
        "  review=' '.join(review)\n",
        "  corpus.append(review)\n"
      ]
    },
    {
      "cell_type": "code",
      "execution_count": 18,
      "metadata": {
        "colab": {
          "base_uri": "https://localhost:8080/",
          "height": 140
        },
        "id": "5g9mdIh0Mjv6",
        "outputId": "ddd11b3d-2ab2-4bdb-d0d5-d0e283f9db61"
      },
      "outputs": [
        {
          "data": {
            "application/vnd.google.colaboratory.intrinsic+json": {
              "type": "string"
            },
            "text/plain": [
              "'istanbul explosion isi bomber kill least istanbul cnn suicide bomber killed least foreigner tuesday popular central istanbul tourist area belonged isi official said attack show group nerve reach capacity terror group claimed responsibility blast yet turkish prime minister ahmet davutoglu pinned blame group call islamic state entrenched neighboring syria iraq proving willing time lash elsewhere least eight german died blast hagia sophia blue mosque tourist attraction istanbul cultural historic heart german chancellor angela merkel said warning figure may rise turkish official earlier told cnn least nine german killed davutoglu indicated wounded inside outside country german foreign minister frankwalter steinmeier saying nine german havent targeted died davutoglu said targeted whole turkey whole world born man responsible blast among thousand tracked turkish authority newly come turkey syria deputy prime minister numan kurtulmus said violence pinned many group including force loyal syrian president bashar alassad yet isi behind many worst atrocity elsewhere region fact thats made terror group top target civilized country member nato turkey increasingly engaged fight including allowing united state launch strike incirlik air base southern turkey clamping curb fighter going territory join group isi responded singling turkey primary target recent issue dabiq magazine cover showing president recep tayyip erdogan alongside u president barack obama davutoglu stressed turkey wouldnt back tuesday attack urging countryman people worldwide unite threat continue fight terror firm attitude said prime minister insisting country continue working usled coalition combat isi never compromise one single inch saw shocked tourist falling ground tuesday blast rattled sultanahmet square around et brought rush ambulance security force area would heavily guarded day ive never heard loud explosion life sener ozdemir yearold shop owner told turkey semiofficial anadolu news agency incident saw shocked tourist falling ground targeting outsider would line attack executed inspired isi enemy everywhere proven willing strike dont subscribe twisted hardline version sharia law turkey popular destination german germany foreign ministry urged traveler istanbul avoid public gathering tourist attraction attack peruvian foreign ministry said statement one citizen stable condition hospital wounded norwegian citizen taken nearby hospital incident foreign ministry spokesman frode andersen told cnn type monument sultanahmet square type isi blowing syria gohel told cnn seen place mesh different entity real melting pot blast come turkey deal multiple security threat longstanding nemesis kurdistan worker party pkk well isi taken swath syria iraq quest form farreaching caliphate turkey action isi first emerged iraq de facto capital syria recent nonetheless made target terrorist group military cooperation united state nato nation particular angered isi said fadi hakura associate fellow chatham house tuesday blast confirmed terror group work ups ante ankara forcing step antiisis fight even according asiapacific foundation gohel attack like designed create economic political social consequence gohel told cnn turkey realize pipeline feed isi turkey syria cut incident like oneoffs could part series plot given dead arent turkish attack directly impact country well known bomber targeted one nationality idea terrorist targeting tourist new illustrated last march attack tunis bardo museum june mass shooting tunisian beachfront hotel free society people want u harmed said merkel referring tunisia attack recent one targeting civilian paris persevere'"
            ]
          },
          "execution_count": 18,
          "metadata": {},
          "output_type": "execute_result"
        }
      ],
      "source": [
        "corpus[0]"
      ]
    },
    {
      "cell_type": "code",
      "execution_count": 19,
      "metadata": {
        "id": "mQwEg_o6wQ-i"
      },
      "outputs": [],
      "source": [
        "onehot_repr=[one_hot(words,voc_size) for words in corpus]   #here voc_size denotes the number of columns\n"
      ]
    },
    {
      "cell_type": "code",
      "execution_count": 21,
      "metadata": {
        "colab": {
          "base_uri": "https://localhost:8080/"
        },
        "id": "YkPAkBX_ahn1",
        "outputId": "44dd654d-adb6-4d5d-db80-c8c3c85d9d73"
      },
      "outputs": [
        {
          "name": "stdout",
          "output_type": "stream",
          "text": [
            "510\n"
          ]
        }
      ],
      "source": [
        "print(len(onehot_repr[0]))"
      ]
    },
    {
      "cell_type": "code",
      "execution_count": 22,
      "metadata": {
        "id": "XfoYO-oRyKKF"
      },
      "outputs": [],
      "source": [
        " sent_length=1500\n",
        " embedded_docs=pad_sequences(onehot_repr,padding='pre',maxlen=sent_length)\n",
        " #print(embedded_docs)\n",
        " from keras.layers import Dropout"
      ]
    },
    {
      "cell_type": "code",
      "execution_count": 45,
      "metadata": {
        "colab": {
          "base_uri": "https://localhost:8080/"
        },
        "id": "u1FoaDQFzRil",
        "outputId": "a0c3f820-a9f0-4902-97b7-9fa22678290c"
      },
      "outputs": [
        {
          "name": "stdout",
          "output_type": "stream",
          "text": [
            "Model: \"sequential_4\"\n",
            "_________________________________________________________________\n",
            " Layer (type)                Output Shape              Param #   \n",
            "=================================================================\n",
            " embedding_4 (Embedding)     (None, 1500, 64)          640000    \n",
            "                                                                 \n",
            " bidirectional_3 (Bidirecti  (None, 128)               66048     \n",
            " onal)                                                           \n",
            "                                                                 \n",
            " dropout_4 (Dropout)         (None, 128)               0         \n",
            "                                                                 \n",
            " dense_4 (Dense)             (None, 1)                 129       \n",
            "                                                                 \n",
            "=================================================================\n",
            "Total params: 706177 (2.69 MB)\n",
            "Trainable params: 66177 (258.50 KB)\n",
            "Non-trainable params: 640000 (2.44 MB)\n",
            "_________________________________________________________________\n",
            "None\n"
          ]
        }
      ],
      "source": [
        "embedding_vector_features=64\n",
        "model1=Sequential()  #sequential model\n",
        "model1.add(Embedding(voc_size,embedding_vector_features,input_length=sent_length,trainable=False))\n",
        "#model.add(Dropout(0.7))\n",
        "model1.add(Bidirectional(LSTM(64)))\n",
        "model1.add(Dropout(0.2))\n",
        "model1.add(Dense(1,activation='sigmoid'))  #1 represents node which is simply a output node and since we are working on binary classification problem so sigmoid  #in model summary the dense parameter is 201 which says it has 201 biases\n",
        "model1.compile(optimizer=Adam(learning_rate=0.0001), loss='binary_crossentropy', metrics=['accuracy'])\n",
        "print(model1.summary())\n"
      ]
    },
    {
      "cell_type": "code",
      "execution_count": 25,
      "metadata": {
        "id": "ZAWWtPO00o5k"
      },
      "outputs": [],
      "source": [
        "import numpy as np\n",
        "X_final=np.array(embedded_docs)\n",
        "y_final=np.array(y)"
      ]
    },
    {
      "cell_type": "code",
      "execution_count": 26,
      "metadata": {
        "id": "jmONf6qf05-G"
      },
      "outputs": [],
      "source": [
        "from sklearn.model_selection import train_test_split"
      ]
    },
    {
      "cell_type": "code",
      "execution_count": 27,
      "metadata": {
        "id": "Y1WwxD151B1B"
      },
      "outputs": [],
      "source": [
        "X_train,X_test,y_train,y_test=train_test_split(X_final,y_final,test_size=0.2,random_state=42)\n"
      ]
    },
    {
      "cell_type": "code",
      "execution_count": 46,
      "metadata": {
        "colab": {
          "base_uri": "https://localhost:8080/"
        },
        "id": "5iVlSE1lQDFR",
        "outputId": "f2b0a992-6fd1-4617-91b9-7ac358a295c5"
      },
      "outputs": [
        {
          "name": "stdout",
          "output_type": "stream",
          "text": [
            "Epoch 1/10\n",
            "622/622 [==============================] - 58s 87ms/step - loss: 0.6490 - accuracy: 0.6165 - val_loss: 0.6474 - val_accuracy: 0.6743\n",
            "Epoch 2/10\n",
            "622/622 [==============================] - 54s 86ms/step - loss: 0.5892 - accuracy: 0.7174 - val_loss: 0.5642 - val_accuracy: 0.7519\n",
            "Epoch 3/10\n",
            "622/622 [==============================] - 53s 86ms/step - loss: 0.5848 - accuracy: 0.7111 - val_loss: 0.5580 - val_accuracy: 0.7483\n",
            "Epoch 4/10\n",
            "622/622 [==============================] - 56s 90ms/step - loss: 0.5486 - accuracy: 0.7381 - val_loss: 0.5480 - val_accuracy: 0.7456\n",
            "Epoch 5/10\n",
            "622/622 [==============================] - 53s 86ms/step - loss: 0.5761 - accuracy: 0.7426 - val_loss: 0.5143 - val_accuracy: 0.7680\n",
            "Epoch 6/10\n",
            "622/622 [==============================] - 53s 86ms/step - loss: 0.5830 - accuracy: 0.7069 - val_loss: 0.5744 - val_accuracy: 0.7214\n",
            "Epoch 7/10\n",
            "622/622 [==============================] - 53s 86ms/step - loss: 0.5365 - accuracy: 0.7543 - val_loss: 0.5059 - val_accuracy: 0.7766\n",
            "Epoch 8/10\n",
            "622/622 [==============================] - 54s 86ms/step - loss: 0.5101 - accuracy: 0.7724 - val_loss: 0.4964 - val_accuracy: 0.7820\n",
            "Epoch 9/10\n",
            "622/622 [==============================] - 54s 86ms/step - loss: 0.4969 - accuracy: 0.7809 - val_loss: 0.4895 - val_accuracy: 0.7870\n",
            "Epoch 10/10\n",
            "622/622 [==============================] - 53s 86ms/step - loss: 0.4873 - accuracy: 0.7859 - val_loss: 0.4780 - val_accuracy: 0.7940\n"
          ]
        }
      ],
      "source": [
        "history1=model1.fit(X_train,y_train,validation_split=0.1,epochs=10,batch_size=64)\n"
      ]
    },
    {
      "cell_type": "code",
      "execution_count": 47,
      "metadata": {
        "colab": {
          "base_uri": "https://localhost:8080/",
          "height": 927
        },
        "id": "8NMjPovFtiVw",
        "outputId": "1417eebf-c8c0-4819-97eb-8e49bcab1852"
      },
      "outputs": [
        {
          "data": {
            "image/png": "[encoded data removed]",
            "text/plain": [
              "<Figure size 640x480 with 1 Axes>"
            ]
          },
          "metadata": {},
          "output_type": "display_data"
        },
        {
          "data": {
            "image/png": "[encoded data removed]",
            "text/plain": [
              "<Figure size 640x480 with 1 Axes>"
            ]
          },
          "metadata": {},
          "output_type": "display_data"
        }
      ],
      "source": [
        "# Plot accuracy\n",
        "plt.plot(history1.history['accuracy'])\n",
        "plt.plot(history1.history['val_accuracy'])\n",
        "plt.title('Model Accuracy of BiLSTM')\n",
        "plt.xlabel('Epoch')\n",
        "plt.ylabel('Accuracy')\n",
        "plt.legend(['Train', 'Validation'], loc='upper left')\n",
        "plt.show()\n",
        "\n",
        "# Plot loss\n",
        "plt.plot(history1.history['loss'])\n",
        "plt.plot(history1.history['val_loss'])\n",
        "plt.title('Model Loss of BiLSTM')\n",
        "plt.xlabel('Epoch')\n",
        "plt.ylabel('Loss')\n",
        "plt.legend(['Train', 'Validation'], loc='upper left')\n",
        "plt.show()"
      ]
    },
    {
      "cell_type": "code",
      "execution_count": 50,
      "metadata": {
        "id": "h2V_50MyQM4U"
      },
      "outputs": [],
      "source": [
        "model1.save('bilstm_model_try_1.h5')"
      ]
    },
    {
      "cell_type": "code",
      "execution_count": 49,
      "metadata": {
        "colab": {
          "base_uri": "https://localhost:8080/"
        },
        "id": "W7KOo3JC98uc",
        "outputId": "f428fc2d-4203-4d1f-b94c-89fbb6106224"
      },
      "outputs": [
        {
          "name": "stdout",
          "output_type": "stream",
          "text": [
            "346/346 [==============================] - 12s 34ms/step\n"
          ]
        }
      ],
      "source": [
        "y_pred = (model1.predict(X_test)>=0.5).astype(int)"
      ]
    },
    {
      "cell_type": "code",
      "execution_count": 51,
      "metadata": {
        "id": "nPctg9lG-Pde"
      },
      "outputs": [],
      "source": [
        "from sklearn.metrics import classification_report, accuracy_score,ConfusionMatrixDisplay"
      ]
    },
    {
      "cell_type": "code",
      "execution_count": 52,
      "metadata": {
        "colab": {
          "base_uri": "https://localhost:8080/"
        },
        "id": "p6GKeQs9-Kvp",
        "outputId": "e8f3b8a9-488e-479b-ef11-9c048bf60f34"
      },
      "outputs": [
        {
          "data": {
            "text/plain": [
              "0.7919420552286103"
            ]
          },
          "execution_count": 52,
          "metadata": {},
          "output_type": "execute_result"
        }
      ],
      "source": [
        "accuracy_score(y_test, y_pred)"
      ]
    },
    {
      "cell_type": "code",
      "execution_count": 53,
      "metadata": {
        "colab": {
          "base_uri": "https://localhost:8080/"
        },
        "id": "qke8xZ-f-Wqx",
        "outputId": "b4cfdf0f-46d8-43f6-8c51-5847ab0be9b0"
      },
      "outputs": [
        {
          "name": "stdout",
          "output_type": "stream",
          "text": [
            "Classification Report:\n",
            "               precision    recall  f1-score   support\n",
            "\n",
            "           0       0.77      0.86      0.81      5708\n",
            "           1       0.83      0.72      0.77      5337\n",
            "\n",
            "    accuracy                           0.79     11045\n",
            "   macro avg       0.80      0.79      0.79     11045\n",
            "weighted avg       0.80      0.79      0.79     11045\n",
            "\n"
          ]
        }
      ],
      "source": [
        "#Print classification report\n",
        "print('Classification Report:\\n', classification_report(y_test, y_pred))"
      ]
    },
    {
      "cell_type": "code",
      "execution_count": 54,
      "metadata": {
        "colab": {
          "base_uri": "https://localhost:8080/",
          "height": 487
        },
        "id": "-k52ef_R-dqG",
        "outputId": "e157bb68-d55f-43ff-dc96-a7370c26407b"
      },
      "outputs": [
        {
          "data": {
            "image/png": "[encoded data removed]",
            "text/plain": [
              "<Figure size 640x480 with 2 Axes>"
            ]
          },
          "metadata": {},
          "output_type": "display_data"
        }
      ],
      "source": [
        "# Create confusion matrix\n",
        "from sklearn.metrics import confusion_matrix\n",
        "cm = confusion_matrix(y_test, y_pred)\n",
        "cm_display = ConfusionMatrixDisplay(confusion_matrix =cm, display_labels =['True', 'Fake'])\n",
        "cm_display.plot()\n",
        "plt.tight_layout()\n",
        "plt.show()"
      ]
    }
  ],
  "metadata": {
    "accelerator": "GPU",
    "colab": {
      "gpuType": "T4",
      "provenance": []
    },
    "kernelspec": {
      "display_name": "Python 3",
      "name": "python3"
    },
    "language_info": {
      "name": "python"
    }
  },
  "nbformat": 4,
  "nbformat_minor": 0
}
