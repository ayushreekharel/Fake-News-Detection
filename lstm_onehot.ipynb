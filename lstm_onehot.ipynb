{
  "cells": [
    {
      "cell_type": "code",
      "execution_count": 2,
      "metadata": {
        "colab": {
          "base_uri": "https://localhost:8080/"
        },
        "id": "l33H4lQCaLus",
        "outputId": "88ce18ee-c63f-4c9f-9764-adfea7abffcf"
      },
      "outputs": [
        {
          "name": "stderr",
          "output_type": "stream",
          "text": [
            "[nltk_data] Downloading package wordnet to /root/nltk_data...\n",
            "[nltk_data] Downloading package stopwords to /root/nltk_data...\n",
            "[nltk_data]   Unzipping corpora/stopwords.zip.\n"
          ]
        }
      ],
      "source": [
        "import pandas as pd\n",
        "import re\n",
        "import nltk\n",
        "from nltk.stem import WordNetLemmatizer\n",
        "nltk.download('wordnet')\n",
        "lz=WordNetLemmatizer()\n",
        "nltk.download('stopwords')\n",
        "import matplotlib.pyplot as plt\n",
        "from sklearn.metrics import classification_report"
      ]
    },
    {
      "cell_type": "code",
      "execution_count": 3,
      "metadata": {
        "colab": {
          "base_uri": "https://localhost:8080/"
        },
        "id": "_edjF4LL0fz1",
        "outputId": "7ce48628-b47c-4b03-9c6b-6b43f02745b4"
      },
      "outputs": [
        {
          "name": "stdout",
          "output_type": "stream",
          "text": [
            "Drive already mounted at /content/drive; to attempt to forcibly remount, call drive.mount(\"/content/drive\", force_remount=True).\n"
          ]
        }
      ],
      "source": [
        "from google.colab import drive\n",
        "drive.mount('/content/drive')"
      ]
    },
    {
      "cell_type": "code",
      "execution_count": 4,
      "metadata": {
        "id": "sg20NnwUfYN8"
      },
      "outputs": [],
      "source": [
        "from tensorflow.keras.layers import Embedding\n",
        "from tensorflow.keras.preprocessing.sequence import pad_sequences\n",
        "from tensorflow.keras.preprocessing.text import one_hot\n",
        "from tensorflow.keras.models import Sequential\n",
        "from tensorflow.keras.layers import Dense\n",
        "from tensorflow.keras.layers import LSTM\n",
        "from tensorflow.keras.layers import Bidirectional\n",
        "from tensorflow.keras.optimizers import Adagrad\n",
        "from tensorflow.keras.optimizers import Adam"
      ]
    },
    {
      "cell_type": "code",
      "execution_count": 5,
      "metadata": {
        "id": "342Q6IRnggJs"
      },
      "outputs": [],
      "source": [
        "voc_size=10000"
      ]
    },
    {
      "cell_type": "code",
      "execution_count": 6,
      "metadata": {
        "id": "--OADY_0aPOr"
      },
      "outputs": [],
      "source": [
        "news_df=pd.read_csv('/content/drive/MyDrive/processed.csv')"
      ]
    },
    {
      "cell_type": "code",
      "execution_count": 44,
      "metadata": {
        "id": "Nfq_zbpHBP_O"
      },
      "outputs": [],
      "source": [
        "import seaborn as sns"
      ]
    },
    {
      "cell_type": "code",
      "execution_count": 7,
      "metadata": {
        "id": "YIMyCdzsgjce"
      },
      "outputs": [],
      "source": [
        "X=news_df['content']\n",
        "y=news_df['label']"
      ]
    },
    {
      "cell_type": "code",
      "execution_count": 49,
      "metadata": {
        "colab": {
          "base_uri": "https://localhost:8080/"
        },
        "id": "jmpodw7NCU18",
        "outputId": "1cccbd1a-563e-4b36-f668-c3fd8b7a25aa"
      },
      "outputs": [
        {
          "data": {
            "text/plain": [
              "0    istanbul explosion isi bomber kill least istan...\n",
              "1    trump give remark healthcare pm gmt white hous...\n",
              "2    mi school sends welcome back packet warning ki...\n",
              "3    spacex bfr go city city earth hour spacex bfr ...\n",
              "4    republican lack agreement obamacare ahead trum...\n",
              "Name: content, dtype: object"
            ]
          },
          "execution_count": 49,
          "metadata": {},
          "output_type": "execute_result"
        }
      ],
      "source": [
        "X.head()"
      ]
    },
    {
      "cell_type": "code",
      "execution_count": 8,
      "metadata": {
        "colab": {
          "base_uri": "https://localhost:8080/",
          "height": 204
        },
        "id": "dRQ6Z8OAH-xQ",
        "outputId": "53d4d1e4-d15b-4bfc-91ee-69d1f0ee570d"
      },
      "outputs": [
        {
          "data": {
            "text/html": [
              "<div style=\"max-width:800px; border: 1px solid var(--colab-border-color);\"><style>\n",
              "      pre.function-repr-contents {\n",
              "        overflow-x: auto;\n",
              "        padding: 8px 12px;\n",
              "        max-height: 500px;\n",
              "      }\n",
              "\n",
              "      pre.function-repr-contents.function-repr-contents-collapsed {\n",
              "        cursor: pointer;\n",
              "        max-height: 100px;\n",
              "      }\n",
              "    </style>\n",
              "    <pre style=\"white-space: initial; background:\n",
              "         var(--colab-secondary-surface-color); padding: 8px 12px;\n",
              "         border-bottom: 1px solid var(--colab-border-color);\"><b>pandas.core.series.Series</b><br/>def __init__(data=None, index=None, dtype: Dtype | None=None, name=None, copy: bool=False, fastpath: bool=False) -&gt; None</pre><pre class=\"function-repr-contents function-repr-contents-collapsed\" style=\"\"><a class=\"filepath\" style=\"display:none\" href=\"#\">/usr/local/lib/python3.10/dist-packages/pandas/core/series.py</a>One-dimensional ndarray with axis labels (including time series).\n",
              "\n",
              "Labels need not be unique but must be a hashable type. The object\n",
              "supports both integer- and label-based indexing and provides a host of\n",
              "methods for performing operations involving the index. Statistical\n",
              "methods from ndarray have been overridden to automatically exclude\n",
              "missing data (currently represented as NaN).\n",
              "\n",
              "Operations between Series (+, -, /, \\*, \\*\\*) align values based on their\n",
              "associated index values-- they need not be the same length. The result\n",
              "index will be the sorted union of the two indexes.\n",
              "\n",
              "Parameters\n",
              "----------\n",
              "data : array-like, Iterable, dict, or scalar value\n",
              "    Contains data stored in Series. If data is a dict, argument order is\n",
              "    maintained.\n",
              "index : array-like or Index (1d)\n",
              "    Values must be hashable and have the same length as `data`.\n",
              "    Non-unique index values are allowed. Will default to\n",
              "    RangeIndex (0, 1, 2, ..., n) if not provided. If data is dict-like\n",
              "    and index is None, then the keys in the data are used as the index. If the\n",
              "    index is not None, the resulting Series is reindexed with the index values.\n",
              "dtype : str, numpy.dtype, or ExtensionDtype, optional\n",
              "    Data type for the output Series. If not specified, this will be\n",
              "    inferred from `data`.\n",
              "    See the :ref:`user guide &lt;basics.dtypes&gt;` for more usages.\n",
              "name : str, optional\n",
              "    The name to give to the Series.\n",
              "copy : bool, default False\n",
              "    Copy input data. Only affects Series or 1d ndarray input. See examples.\n",
              "\n",
              "Notes\n",
              "-----\n",
              "Please reference the :ref:`User Guide &lt;basics.series&gt;` for more information.\n",
              "\n",
              "Examples\n",
              "--------\n",
              "Constructing Series from a dictionary with an Index specified\n",
              "\n",
              "&gt;&gt;&gt; d = {&#x27;a&#x27;: 1, &#x27;b&#x27;: 2, &#x27;c&#x27;: 3}\n",
              "&gt;&gt;&gt; ser = pd.Series(data=d, index=[&#x27;a&#x27;, &#x27;b&#x27;, &#x27;c&#x27;])\n",
              "&gt;&gt;&gt; ser\n",
              "a   1\n",
              "b   2\n",
              "c   3\n",
              "dtype: int64\n",
              "\n",
              "The keys of the dictionary match with the Index values, hence the Index\n",
              "values have no effect.\n",
              "\n",
              "&gt;&gt;&gt; d = {&#x27;a&#x27;: 1, &#x27;b&#x27;: 2, &#x27;c&#x27;: 3}\n",
              "&gt;&gt;&gt; ser = pd.Series(data=d, index=[&#x27;x&#x27;, &#x27;y&#x27;, &#x27;z&#x27;])\n",
              "&gt;&gt;&gt; ser\n",
              "x   NaN\n",
              "y   NaN\n",
              "z   NaN\n",
              "dtype: float64\n",
              "\n",
              "Note that the Index is first build with the keys from the dictionary.\n",
              "After this the Series is reindexed with the given Index values, hence we\n",
              "get all NaN as a result.\n",
              "\n",
              "Constructing Series from a list with `copy=False`.\n",
              "\n",
              "&gt;&gt;&gt; r = [1, 2]\n",
              "&gt;&gt;&gt; ser = pd.Series(r, copy=False)\n",
              "&gt;&gt;&gt; ser.iloc[0] = 999\n",
              "&gt;&gt;&gt; r\n",
              "[1, 2]\n",
              "&gt;&gt;&gt; ser\n",
              "0    999\n",
              "1      2\n",
              "dtype: int64\n",
              "\n",
              "Due to input data type the Series has a `copy` of\n",
              "the original data even though `copy=False`, so\n",
              "the data is unchanged.\n",
              "\n",
              "Constructing Series from a 1d ndarray with `copy=False`.\n",
              "\n",
              "&gt;&gt;&gt; r = np.array([1, 2])\n",
              "&gt;&gt;&gt; ser = pd.Series(r, copy=False)\n",
              "&gt;&gt;&gt; ser.iloc[0] = 999\n",
              "&gt;&gt;&gt; r\n",
              "array([999,   2])\n",
              "&gt;&gt;&gt; ser\n",
              "0    999\n",
              "1      2\n",
              "dtype: int64\n",
              "\n",
              "Due to input data type the Series has a `view` on\n",
              "the original data, so\n",
              "the data is changed as well.</pre>\n",
              "      <script>\n",
              "      if (google.colab.kernel.accessAllowed && google.colab.files && google.colab.files.view) {\n",
              "        for (const element of document.querySelectorAll('.filepath')) {\n",
              "          element.style.display = 'block'\n",
              "          element.onclick = (event) => {\n",
              "            event.preventDefault();\n",
              "            event.stopPropagation();\n",
              "            google.colab.files.view(element.textContent, 216);\n",
              "          };\n",
              "        }\n",
              "      }\n",
              "      for (const element of document.querySelectorAll('.function-repr-contents')) {\n",
              "        element.onclick = (event) => {\n",
              "          event.preventDefault();\n",
              "          event.stopPropagation();\n",
              "          element.classList.toggle('function-repr-contents-collapsed');\n",
              "        };\n",
              "      }\n",
              "      </script>\n",
              "      </div>"
            ],
            "text/plain": [
              "pandas.core.series.Series"
            ]
          },
          "execution_count": 8,
          "metadata": {},
          "output_type": "execute_result"
        }
      ],
      "source": [
        "type(X)"
      ]
    },
    {
      "cell_type": "code",
      "execution_count": 9,
      "metadata": {
        "colab": {
          "base_uri": "https://localhost:8080/"
        },
        "id": "n_ElTpSBD7VB",
        "outputId": "e8fab109-8eaa-4465-8b13-69fee2f5a0fa"
      },
      "outputs": [
        {
          "name": "stdout",
          "output_type": "stream",
          "text": [
            "0        istanbul explosion isi bomber kill least istan...\n",
            "1        trump give remark healthcare pm gmt white hous...\n",
            "2        mi school sends welcome back packet warning ki...\n",
            "3        spacex bfr go city city earth hour spacex bfr ...\n",
            "4        republican lack agreement obamacare ahead trum...\n",
            "                               ...                        \n",
            "55216    spain make largest cocaine bust year madrid re...\n",
            "55217    breaking youre fired fbi director james comey ...\n",
            "55218    wartorn darfur new u aid chief stress need hum...\n",
            "55219    climate doubter pruitt take epa rein trump tar...\n",
            "55220    need safe place pumpkin internet drag trump be...\n",
            "Name: content, Length: 55221, dtype: object\n"
          ]
        }
      ],
      "source": [
        "print(X)"
      ]
    },
    {
      "cell_type": "code",
      "execution_count": 10,
      "metadata": {
        "colab": {
          "base_uri": "https://localhost:8080/"
        },
        "id": "u0RlmbX5GMSK",
        "outputId": "ee419dcd-a904-45f9-881c-62e14ae7f4dd"
      },
      "outputs": [
        {
          "data": {
            "text/plain": [
              "3657"
            ]
          },
          "execution_count": 10,
          "metadata": {},
          "output_type": "execute_result"
        }
      ],
      "source": [
        "len(X[0])"
      ]
    },
    {
      "cell_type": "code",
      "execution_count": 11,
      "metadata": {
        "id": "PbOJpoTbLcT5"
      },
      "outputs": [],
      "source": [
        "corpus=[]\n",
        "for i in range(0,len(X)):\n",
        "  review=X[i]\n",
        "  review=review.split()\n",
        "  review=' '.join(review)\n",
        "  corpus.append(review)\n"
      ]
    },
    {
      "cell_type": "code",
      "execution_count": 13,
      "metadata": {
        "id": "mQwEg_o6wQ-i"
      },
      "outputs": [],
      "source": [
        "onehot_repr=[one_hot(words,voc_size) for words in corpus]   #here voc_size denotes the number of columns\n"
      ]
    },
    {
      "cell_type": "code",
      "execution_count": 15,
      "metadata": {
        "colab": {
          "base_uri": "https://localhost:8080/"
        },
        "id": "YkPAkBX_ahn1",
        "outputId": "7f88cd4c-03d5-4127-a4ad-fdaa5cbc7d36"
      },
      "outputs": [
        {
          "name": "stdout",
          "output_type": "stream",
          "text": [
            "510\n"
          ]
        }
      ],
      "source": [
        "print(len(onehot_repr[0]))"
      ]
    },
    {
      "cell_type": "code",
      "execution_count": 16,
      "metadata": {
        "id": "XfoYO-oRyKKF"
      },
      "outputs": [],
      "source": [
        " sent_length=1500\n",
        " embedded_docs=pad_sequences(onehot_repr,padding='pre',maxlen=sent_length)\n",
        " #print(embedded_docs)\n",
        " from keras.layers import Dropout"
      ]
    },
    {
      "cell_type": "code",
      "execution_count": 17,
      "metadata": {
        "colab": {
          "base_uri": "https://localhost:8080/"
        },
        "id": "u1FoaDQFzRil",
        "outputId": "4988da8f-573b-4860-f89b-f84065aab675"
      },
      "outputs": [
        {
          "name": "stdout",
          "output_type": "stream",
          "text": [
            "Model: \"sequential\"\n",
            "_________________________________________________________________\n",
            " Layer (type)                Output Shape              Param #   \n",
            "=================================================================\n",
            " embedding (Embedding)       (None, 1500, 64)          640000    \n",
            "                                                                 \n",
            " bidirectional (Bidirection  (None, 200)               132000    \n",
            " al)                                                             \n",
            "                                                                 \n",
            " dropout (Dropout)           (None, 200)               0         \n",
            "                                                                 \n",
            " dense (Dense)               (None, 1)                 201       \n",
            "                                                                 \n",
            "=================================================================\n",
            "Total params: 772201 (2.95 MB)\n",
            "Trainable params: 132201 (516.41 KB)\n",
            "Non-trainable params: 640000 (2.44 MB)\n",
            "_________________________________________________________________\n",
            "None\n"
          ]
        }
      ],
      "source": [
        "embedding_vector_features=64\n",
        "model=Sequential()  #sequential model\n",
        "model.add(Embedding(voc_size,embedding_vector_features,input_length=sent_length,trainable=False))\n",
        "#model.add(Dropout(0.7))\n",
        "model.add(Bidirectional(LSTM(100)))\n",
        "model.add(Dropout(0.2))\n",
        "model.add(Dense(1,activation='sigmoid'))  #1 represents node which is simply a output node and since we are working on binary classification problem so sigmoid  #in model summary the dense parameter is 201 which says it has 201 biases\n",
        "model.compile(optimizer=Adam(learning_rate=0.0001), loss='binary_crossentropy', metrics=['accuracy'])\n",
        "print(model.summary())\n"
      ]
    },
    {
      "cell_type": "code",
      "execution_count": 18,
      "metadata": {
        "colab": {
          "base_uri": "https://localhost:8080/"
        },
        "id": "fGD4L2Epbia9",
        "outputId": "80e5f1d8-8078-4363-e980-6ed5e1ef1ab8"
      },
      "outputs": [
        {
          "name": "stdout",
          "output_type": "stream",
          "text": [
            "Model: \"sequential_1\"\n",
            "_________________________________________________________________\n",
            " Layer (type)                Output Shape              Param #   \n",
            "=================================================================\n",
            " embedding_1 (Embedding)     (None, 1500, 64)          640000    \n",
            "                                                                 \n",
            " lstm_1 (LSTM)               (None, 140)               114800    \n",
            "                                                                 \n",
            " dropout_1 (Dropout)         (None, 140)               0         \n",
            "                                                                 \n",
            " dense_1 (Dense)             (None, 1)                 141       \n",
            "                                                                 \n",
            "=================================================================\n",
            "Total params: 754941 (2.88 MB)\n",
            "Trainable params: 754941 (2.88 MB)\n",
            "Non-trainable params: 0 (0.00 Byte)\n",
            "_________________________________________________________________\n",
            "None\n"
          ]
        }
      ],
      "source": [
        "embedding_vector_features=64\n",
        "model1=Sequential()  #sequential model\n",
        "model1.add(Embedding(voc_size,embedding_vector_features,input_length=sent_length))\n",
        "#model.add(Dropout(0.7))\n",
        "model1.add(LSTM(140))\n",
        "model1.add(Dropout(0.2))\n",
        "model1.add(Dense(1,activation='sigmoid'))  #1 represents node which is simply a output node and since we are working on binary classification problem so sigmoid  #in model summary the dense parameter is 201 which says it has 201 biases\n",
        "model1.compile(optimizer=Adam(learning_rate=0.0001), loss='binary_crossentropy', metrics=['accuracy'])\n",
        "print(model1.summary())"
      ]
    },
    {
      "cell_type": "code",
      "execution_count": 19,
      "metadata": {
        "id": "ZAWWtPO00o5k"
      },
      "outputs": [],
      "source": [
        "import numpy as np\n",
        "X_final=np.array(embedded_docs)\n",
        "y_final=np.array(y)"
      ]
    },
    {
      "cell_type": "code",
      "execution_count": 20,
      "metadata": {
        "id": "jmONf6qf05-G"
      },
      "outputs": [],
      "source": [
        "from sklearn.model_selection import train_test_split"
      ]
    },
    {
      "cell_type": "code",
      "execution_count": 21,
      "metadata": {
        "id": "Y1WwxD151B1B"
      },
      "outputs": [],
      "source": [
        "X_train,X_test,y_train,y_test=train_test_split(X_final,y_final,test_size=0.2,random_state=42)\n"
      ]
    },
    {
      "cell_type": "code",
      "execution_count": 23,
      "metadata": {
        "colab": {
          "base_uri": "https://localhost:8080/"
        },
        "id": "UXsu3cB0cGQe",
        "outputId": "cca3ea0c-a02d-45a4-a7b6-2d873421350e"
      },
      "outputs": [
        {
          "name": "stdout",
          "output_type": "stream",
          "text": [
            "Epoch 1/10\n",
            "622/622 [==============================] - 127s 201ms/step - loss: 0.4406 - accuracy: 0.8310 - val_loss: 0.2293 - val_accuracy: 0.9153\n",
            "Epoch 2/10\n",
            "622/622 [==============================] - 84s 136ms/step - loss: 0.1693 - accuracy: 0.9399 - val_loss: 0.1421 - val_accuracy: 0.9511\n",
            "Epoch 3/10\n",
            "622/622 [==============================] - 68s 110ms/step - loss: 0.1199 - accuracy: 0.9615 - val_loss: 0.1390 - val_accuracy: 0.9572\n",
            "Epoch 4/10\n",
            "622/622 [==============================] - 60s 96ms/step - loss: 0.0888 - accuracy: 0.9724 - val_loss: 0.1143 - val_accuracy: 0.9617\n",
            "Epoch 5/10\n",
            "622/622 [==============================] - 53s 85ms/step - loss: 0.1334 - accuracy: 0.9563 - val_loss: 0.1207 - val_accuracy: 0.9581\n",
            "Epoch 6/10\n",
            "622/622 [==============================] - 49s 80ms/step - loss: 0.0628 - accuracy: 0.9814 - val_loss: 0.1054 - val_accuracy: 0.9651\n",
            "Epoch 7/10\n",
            "622/622 [==============================] - 50s 80ms/step - loss: 0.0555 - accuracy: 0.9839 - val_loss: 0.1101 - val_accuracy: 0.9665\n",
            "Epoch 8/10\n",
            "622/622 [==============================] - 48s 76ms/step - loss: 0.0488 - accuracy: 0.9865 - val_loss: 0.1069 - val_accuracy: 0.9649\n",
            "Epoch 9/10\n",
            "622/622 [==============================] - 48s 78ms/step - loss: 0.0412 - accuracy: 0.9886 - val_loss: 0.1243 - val_accuracy: 0.9670\n",
            "Epoch 10/10\n",
            "622/622 [==============================] - 47s 75ms/step - loss: 0.0425 - accuracy: 0.9883 - val_loss: 0.1061 - val_accuracy: 0.9679\n"
          ]
        }
      ],
      "source": [
        "history1=model1.fit(X_train,y_train,validation_split=0.1,epochs=10,batch_size=64)\n"
      ]
    },
    {
      "cell_type": "code",
      "execution_count": 28,
      "metadata": {
        "colab": {
          "base_uri": "https://localhost:8080/"
        },
        "id": "jlbFl6_HB3k_",
        "outputId": "591f78dd-b7ba-4b96-872a-5febeb4cf985"
      },
      "outputs": [
        {
          "name": "stderr",
          "output_type": "stream",
          "text": [
            "/usr/local/lib/python3.10/dist-packages/keras/src/engine/training.py:3103: UserWarning: You are saving your model as an HDF5 file via `model.save()`. This file format is considered legacy. We recommend using instead the native Keras format, e.g. `model.save('my_model.keras')`.\n",
            "  saving_api.save_model(\n"
          ]
        }
      ],
      "source": [
        "model1.save(\"model.h5\")"
      ]
    },
    {
      "cell_type": "code",
      "execution_count": 40,
      "metadata": {
        "colab": {
          "base_uri": "https://localhost:8080/",
          "height": 927
        },
        "id": "8NMjPovFtiVw",
        "outputId": "ab2bc8c3-01be-435f-9d89-ee3b0e4b1959"
      },
      "outputs": [
        {
          "data": {
            "image/png": "[encoded data removed]",
            "text/plain": [
              "<Figure size 640x480 with 1 Axes>"
            ]
          },
          "metadata": {},
          "output_type": "display_data"
        },
        {
          "data": {
            "image/png": "[encoded data removed]",
            "text/plain": [
              "<Figure size 640x480 with 1 Axes>"
            ]
          },
          "metadata": {},
          "output_type": "display_data"
        }
      ],
      "source": [
        "# Plot accuracy\n",
        "plt.plot(history1.history['accuracy'])\n",
        "plt.plot(history1.history['val_accuracy'])\n",
        "plt.title('Model Accuracy of LSTM')\n",
        "plt.xlabel('Epoch')\n",
        "plt.ylabel('Accuracy')\n",
        "plt.legend(['Train', 'Validation'], loc='upper left')\n",
        "plt.show()\n",
        "\n",
        "# Plot loss\n",
        "plt.plot(history1.history['loss'])\n",
        "plt.plot(history1.history['val_loss'])\n",
        "plt.title('Model Loss of LSTM')\n",
        "plt.xlabel('Epoch')\n",
        "plt.ylabel('Loss')\n",
        "plt.legend(['Train', 'Validation'], loc='upper left')\n",
        "plt.show()"
      ]
    },
    {
      "cell_type": "code",
      "execution_count": 30,
      "metadata": {
        "colab": {
          "base_uri": "https://localhost:8080/"
        },
        "id": "W7KOo3JC98uc",
        "outputId": "ccd9baa5-7ba1-45e4-811f-4251b08f0609"
      },
      "outputs": [
        {
          "name": "stdout",
          "output_type": "stream",
          "text": [
            "346/346 [==============================] - 8s 19ms/step\n"
          ]
        }
      ],
      "source": [
        "y_pred = (model1.predict(X_test)>=0.5).astype(int)"
      ]
    },
    {
      "cell_type": "code",
      "execution_count": 32,
      "metadata": {
        "id": "nPctg9lG-Pde"
      },
      "outputs": [],
      "source": [
        "from sklearn.metrics import classification_report, accuracy_score,ConfusionMatrixDisplay"
      ]
    },
    {
      "cell_type": "code",
      "execution_count": 33,
      "metadata": {
        "colab": {
          "base_uri": "https://localhost:8080/"
        },
        "id": "p6GKeQs9-Kvp",
        "outputId": "8977a670-87cc-45bd-9ba8-50c154b9ebc6"
      },
      "outputs": [
        {
          "data": {
            "text/plain": [
              "0.9677682209144409"
            ]
          },
          "execution_count": 33,
          "metadata": {},
          "output_type": "execute_result"
        }
      ],
      "source": [
        "accuracy_score(y_test, y_pred)"
      ]
    },
    {
      "cell_type": "code",
      "execution_count": 34,
      "metadata": {
        "colab": {
          "base_uri": "https://localhost:8080/"
        },
        "id": "qke8xZ-f-Wqx",
        "outputId": "d427e239-ca3f-4367-f302-578175bd7e4c"
      },
      "outputs": [
        {
          "name": "stdout",
          "output_type": "stream",
          "text": [
            "Classification Report:\n",
            "               precision    recall  f1-score   support\n",
            "\n",
            "           0       0.97      0.97      0.97      5708\n",
            "           1       0.97      0.96      0.97      5337\n",
            "\n",
            "    accuracy                           0.97     11045\n",
            "   macro avg       0.97      0.97      0.97     11045\n",
            "weighted avg       0.97      0.97      0.97     11045\n",
            "\n"
          ]
        }
      ],
      "source": [
        "#Print classification report\n",
        "print('Classification Report:\\n', classification_report(y_test, y_pred))"
      ]
    },
    {
      "cell_type": "code",
      "execution_count": 36,
      "metadata": {
        "colab": {
          "base_uri": "https://localhost:8080/",
          "height": 487
        },
        "id": "-k52ef_R-dqG",
        "outputId": "95e8bff6-fba6-4a52-805b-b4250065b637"
      },
      "outputs": [
        {
          "data": {
            "image/png": "[encoded data removed]",
            "text/plain": [
              "<Figure size 640x480 with 2 Axes>"
            ]
          },
          "metadata": {},
          "output_type": "display_data"
        }
      ],
      "source": [
        "# Create confusion matrix\n",
        "from sklearn.metrics import confusion_matrix\n",
        "cm = confusion_matrix(y_test, y_pred)\n",
        "cm_display = ConfusionMatrixDisplay(confusion_matrix =cm, display_labels =['True', 'Fake'])\n",
        "cm_display.plot()\n",
        "plt.tight_layout()\n",
        "plt.show()"
      ]
    }
  ],
  "metadata": {
    "accelerator": "GPU",
    "colab": {
      "gpuType": "T4",
      "provenance": []
    },
    "kernelspec": {
      "display_name": "Python 3",
      "name": "python3"
    },
    "language_info": {
      "name": "python"
    }
  },
  "nbformat": 4,
  "nbformat_minor": 0
}
